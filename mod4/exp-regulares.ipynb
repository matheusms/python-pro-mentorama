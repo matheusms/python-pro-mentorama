{
 "cells": [
  {
   "cell_type": "code",
   "execution_count": 1,
   "source": [
    "from re import findall, search"
   ],
   "outputs": [],
   "metadata": {}
  },
  {
   "cell_type": "code",
   "execution_count": 2,
   "source": [
    "#exemplo de texto simples\r\n",
    "texto = \"Estamos estudando Python no curso Python Pro da Mentorama\"\r\n",
    "findall(\"da\", texto)#retorna as ocorrencias, mas nao onde"
   ],
   "outputs": [
    {
     "output_type": "execute_result",
     "data": {
      "text/plain": [
       "['da', 'da']"
      ]
     },
     "metadata": {},
     "execution_count": 2
    }
   ],
   "metadata": {}
  },
  {
   "cell_type": "code",
   "execution_count": 3,
   "source": [
    "search(\"da\", texto).start()\r\n",
    "#retorna a posição do primeiro 'da' encontrado"
   ],
   "outputs": [
    {
     "output_type": "execute_result",
     "data": {
      "text/plain": [
       "12"
      ]
     },
     "metadata": {},
     "execution_count": 3
    }
   ],
   "metadata": {}
  },
  {
   "cell_type": "markdown",
   "source": [
    "Podemos retirar caracteres especiais de textos"
   ],
   "metadata": {}
  },
  {
   "cell_type": "code",
   "execution_count": 4,
   "source": [
    "caracteres_expeciais = \"Estamos @ estudando #Python no curso 1 Python Pro da Mentorama\""
   ],
   "outputs": [],
   "metadata": {}
  },
  {
   "cell_type": "code",
   "execution_count": 5,
   "source": [
    "findall(r\"\\w+\", caracteres_expeciais)\r\n",
    "#retorna apenas o que for palavra"
   ],
   "outputs": [
    {
     "output_type": "execute_result",
     "data": {
      "text/plain": [
       "['Estamos',\n",
       " 'estudando',\n",
       " 'Python',\n",
       " 'no',\n",
       " 'curso',\n",
       " '1',\n",
       " 'Python',\n",
       " 'Pro',\n",
       " 'da',\n",
       " 'Mentorama']"
      ]
     },
     "metadata": {},
     "execution_count": 5
    }
   ],
   "metadata": {}
  },
  {
   "cell_type": "code",
   "execution_count": 6,
   "source": [
    "palavras = findall(r\"\\w+\", caracteres_expeciais)\r\n",
    "\" \".join(palavras) #retornando a frase sem os caracteres ao inves de uma lista"
   ],
   "outputs": [
    {
     "output_type": "execute_result",
     "data": {
      "text/plain": [
       "'Estamos estudando Python no curso 1 Python Pro da Mentorama'"
      ]
     },
     "metadata": {},
     "execution_count": 6
    }
   ],
   "metadata": {}
  },
  {
   "cell_type": "markdown",
   "source": [
    "Quando não sabemos se um caractere está presente ou não, podemos utilizar o ponto"
   ],
   "metadata": {}
  },
  {
   "cell_type": "code",
   "execution_count": 7,
   "source": [
    "texto2 = \"Estamos estudando Pithon no curso Python Pro da Mentorama\""
   ],
   "outputs": [],
   "metadata": {}
  },
  {
   "cell_type": "code",
   "execution_count": 8,
   "source": [
    "#procurar a palavra Python substituindo o y por um ponto\r\n",
    "findall(r\"P.thon\", texto2)"
   ],
   "outputs": [
    {
     "output_type": "execute_result",
     "data": {
      "text/plain": [
       "['Pithon', 'Python']"
      ]
     },
     "metadata": {},
     "execution_count": 8
    }
   ],
   "metadata": {}
  },
  {
   "cell_type": "markdown",
   "source": [
    "Buscar pela ocorrência inicial da palavra"
   ],
   "metadata": {}
  },
  {
   "cell_type": "code",
   "execution_count": 9,
   "source": [
    "padrao = r\"\\bpy\"#procura a parte \"py\" nos inicios das frases\r\n",
    "#r\\py\\b procura apenas a parte \"py no final da frase\"\r\n",
    "texto3 = \"python é uma linguagem pythomica e os seus arquivos possuem a extensão py\"\r\n",
    "findall(padrao, texto3)"
   ],
   "outputs": [
    {
     "output_type": "execute_result",
     "data": {
      "text/plain": [
       "['py', 'py', 'py']"
      ]
     },
     "metadata": {},
     "execution_count": 9
    }
   ],
   "metadata": {}
  }
 ],
 "metadata": {
  "orig_nbformat": 4,
  "language_info": {
   "name": "python",
   "version": "3.9.6",
   "mimetype": "text/x-python",
   "codemirror_mode": {
    "name": "ipython",
    "version": 3
   },
   "pygments_lexer": "ipython3",
   "nbconvert_exporter": "python",
   "file_extension": ".py"
  },
  "kernelspec": {
   "name": "python3",
   "display_name": "Python 3.9.6 64-bit ('virt_amb': venv)"
  },
  "interpreter": {
   "hash": "1688de0ab0dcee74fedf86755ddd1e145e06084d801535e12e77ad530c61b414"
  }
 },
 "nbformat": 4,
 "nbformat_minor": 2
}