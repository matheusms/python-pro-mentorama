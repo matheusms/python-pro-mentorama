{
 "cells": [
  {
   "cell_type": "code",
   "execution_count": 71,
   "source": [
    "from requests import get\r\n",
    "from bs4 import BeautifulSoup\r\n",
    "from yaml import load, FullLoader, dump\r\n",
    "from re import findall, search"
   ],
   "outputs": [],
   "metadata": {}
  },
  {
   "cell_type": "code",
   "execution_count": 4,
   "source": [
    "#raspagem do site\r\n",
    "resposta = get(\"https://www.w3schools.io/file/yaml-sample-example/\")"
   ],
   "outputs": [],
   "metadata": {}
  },
  {
   "cell_type": "code",
   "execution_count": 5,
   "source": [
    "tags = BeautifulSoup(resposta.text, 'html5lib')"
   ],
   "outputs": [],
   "metadata": {}
  },
  {
   "cell_type": "code",
   "execution_count": 35,
   "source": [
    "#extrair o exemplo de YAML\r\n",
    "ex_yaml = tags.find_all(\"div\", attrs= {\"class\" : \"highlight\"})\r\n",
    "texto = [span.text for span in ex_yaml]\r\n",
    "texto\r\n"
   ],
   "outputs": [
    {
     "output_type": "execute_result",
     "data": {
      "text/plain": [
       "['\\n---  # yaml document begining\\n# comment syntax\\n\\n# basic syntax - key and value separated by colon and space before value\\nkey: value\\n\\n# Scalar data types\\nintegerValue: 1                     # integer value\\nfloatingValue: 1                     # floating vale\\n\\nstringValue: \"456\"                   # string with double quotes\\nstringValue: \\'abc\\'                  # string with single quotes\\nstringValue: wer                   # string without quotes\\n\\nbooleanValue:true                   # boolean values - true or false\\n\\n\\n# Multiline strinsg with literal block syntax -preserved new lines\\nstring1: |\\n   Line1\\n   line2\\n   \"line3\"   \\n  line4\\n\\n# Multiline strings with folded block syntax - new lines are not preserved, leading and trailing spaces are ignore\\n  string1: >\\n   Line1\\n   line2\\n   \"line3\"   \\n  line4\\n# Collection sequence data types\\n # sequence arraylist example\\n - One\\n - two\\n - Three\\n\\n  # other way of sequence  syntax example\\n  [one, two ,three]\\n\\n### dictionary\\n  mysqldatabase:\\n    hostname: localhost\\n    port: 3012\\n    username: root\\n    password: root\\n']"
      ]
     },
     "metadata": {},
     "execution_count": 35
    }
   ],
   "metadata": {}
  },
  {
   "cell_type": "code",
   "execution_count": 53,
   "source": [
    "texto2 = ' '.join(texto)\r\n",
    "texto3 = texto2.split('\\n')\r\n",
    "texto3\r\n"
   ],
   "outputs": [
    {
     "output_type": "execute_result",
     "data": {
      "text/plain": [
       "['',\n",
       " '---  # yaml document begining',\n",
       " '# comment syntax',\n",
       " '',\n",
       " '# basic syntax - key and value separated by colon and space before value',\n",
       " 'key: value',\n",
       " '',\n",
       " '# Scalar data types',\n",
       " 'integerValue: 1                     # integer value',\n",
       " 'floatingValue: 1                     # floating vale',\n",
       " '',\n",
       " 'stringValue: \"456\"                   # string with double quotes',\n",
       " \"stringValue: 'abc'                  # string with single quotes\",\n",
       " 'stringValue: wer                   # string without quotes',\n",
       " '',\n",
       " 'booleanValue:true                   # boolean values - true or false',\n",
       " '',\n",
       " '',\n",
       " '# Multiline strinsg with literal block syntax -preserved new lines',\n",
       " 'string1: |',\n",
       " '   Line1',\n",
       " '   line2',\n",
       " '   \"line3\"   ',\n",
       " '  line4',\n",
       " '',\n",
       " '# Multiline strings with folded block syntax - new lines are not preserved, leading and trailing spaces are ignore',\n",
       " '  string1: >',\n",
       " '   Line1',\n",
       " '   line2',\n",
       " '   \"line3\"   ',\n",
       " '  line4',\n",
       " '# Collection sequence data types',\n",
       " ' # sequence arraylist example',\n",
       " ' - One',\n",
       " ' - two',\n",
       " ' - Three',\n",
       " '',\n",
       " '  # other way of sequence  syntax example',\n",
       " '  [one, two ,three]',\n",
       " '',\n",
       " '### dictionary',\n",
       " '  mysqldatabase:',\n",
       " '    hostname: localhost',\n",
       " '    port: 3012',\n",
       " '    username: root',\n",
       " '    password: root',\n",
       " '']"
      ]
     },
     "metadata": {},
     "execution_count": 53
    }
   ],
   "metadata": {}
  },
  {
   "cell_type": "code",
   "execution_count": 70,
   "source": [
    "#extraindo os comentários\r\n",
    "comentarios = tags.find_all(\"span\", attrs= {\"class\" : \"c\"})\r\n",
    "[span.text for span in comentarios]"
   ],
   "outputs": [
    {
     "output_type": "execute_result",
     "data": {
      "text/plain": [
       "['# yaml document begining',\n",
       " '# comment syntax',\n",
       " '# basic syntax - key and value separated by colon and space before value',\n",
       " '# Scalar data types',\n",
       " '# integer value',\n",
       " '# floating vale',\n",
       " '# string with double quotes',\n",
       " '# string with single quotes',\n",
       " '# string without quotes',\n",
       " '# boolean values - true or false',\n",
       " '# Multiline strinsg with literal block syntax -preserved new lines',\n",
       " '# Multiline strings with folded block syntax - new lines are not preserved, leading and trailing spaces are ignore',\n",
       " '# Collection sequence data types',\n",
       " '# sequence arraylist example',\n",
       " '# other way of sequence  syntax example',\n",
       " '### dictionary']"
      ]
     },
     "metadata": {},
     "execution_count": 70
    }
   ],
   "metadata": {}
  },
  {
   "cell_type": "code",
   "execution_count": 72,
   "source": [
    "#escrevendo o arquivo YAML\r\n",
    "with open(\"arq_yaml.yml\", \"w\") as file:\r\n",
    "    dump(texto3, file)"
   ],
   "outputs": [],
   "metadata": {}
  }
 ],
 "metadata": {
  "orig_nbformat": 4,
  "language_info": {
   "name": "python",
   "version": "3.9.6",
   "mimetype": "text/x-python",
   "codemirror_mode": {
    "name": "ipython",
    "version": 3
   },
   "pygments_lexer": "ipython3",
   "nbconvert_exporter": "python",
   "file_extension": ".py"
  },
  "kernelspec": {
   "name": "python3",
   "display_name": "Python 3.9.6 64-bit ('virt_amb': venv)"
  },
  "interpreter": {
   "hash": "1688de0ab0dcee74fedf86755ddd1e145e06084d801535e12e77ad530c61b414"
  }
 },
 "nbformat": 4,
 "nbformat_minor": 2
}