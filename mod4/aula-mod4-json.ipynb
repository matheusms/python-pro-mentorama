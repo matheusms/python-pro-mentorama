{
 "cells": [
  {
   "cell_type": "code",
   "execution_count": 9,
   "source": [
    "from json import dump, dumps, load, loads"
   ],
   "outputs": [],
   "metadata": {}
  },
  {
   "cell_type": "markdown",
   "source": [
    "Criando um arquivo de exemplo"
   ],
   "metadata": {}
  },
  {
   "cell_type": "code",
   "execution_count": 4,
   "source": [
    "json_exemplo = {\r\n",
    "    \"chave1\" : \"valor1\",\r\n",
    "    \"chave2\" : \"valor2\"\r\n",
    "}"
   ],
   "outputs": [],
   "metadata": {}
  },
  {
   "cell_type": "code",
   "execution_count": 5,
   "source": [
    "#convertendo o formato dicionário em uma string\r\n",
    "string_json = dumps(json_exemplo)\r\n",
    "string_json #retorna em forma de dicionário"
   ],
   "outputs": [
    {
     "output_type": "execute_result",
     "data": {
      "text/plain": [
       "'{\"chave1\": \"valor1\", \"chave2\": \"valor2\"}'"
      ]
     },
     "metadata": {},
     "execution_count": 5
    }
   ],
   "metadata": {}
  },
  {
   "cell_type": "code",
   "execution_count": 7,
   "source": [
    "#converter a string para dicionario\r\n",
    "json_str2dict = loads(string_json)\r\n",
    "json_str2dict"
   ],
   "outputs": [
    {
     "output_type": "execute_result",
     "data": {
      "text/plain": [
       "{'chave1': 'valor1', 'chave2': 'valor2'}"
      ]
     },
     "metadata": {},
     "execution_count": 7
    }
   ],
   "metadata": {}
  },
  {
   "cell_type": "code",
   "execution_count": 10,
   "source": [
    "#salvar em um arquivo no formato JSON \r\n",
    "with open(\"json_exemplo.json\", \"w\") as file:\r\n",
    "    dump(json_str2dict, file)"
   ],
   "outputs": [],
   "metadata": {}
  },
  {
   "cell_type": "code",
   "execution_count": 11,
   "source": [
    "#lendo o arquivo JSON \r\n",
    "with open(\"json_exemplo.json\") as file:\r\n",
    "    leitura_do_json = load(file)\r\n",
    "\r\n",
    "leitura_do_json"
   ],
   "outputs": [
    {
     "output_type": "execute_result",
     "data": {
      "text/plain": [
       "{'chave1': 'valor1', 'chave2': 'valor2'}"
      ]
     },
     "metadata": {},
     "execution_count": 11
    }
   ],
   "metadata": {}
  }
 ],
 "metadata": {
  "orig_nbformat": 4,
  "language_info": {
   "name": "python",
   "version": "3.9.6",
   "mimetype": "text/x-python",
   "codemirror_mode": {
    "name": "ipython",
    "version": 3
   },
   "pygments_lexer": "ipython3",
   "nbconvert_exporter": "python",
   "file_extension": ".py"
  },
  "kernelspec": {
   "name": "python3",
   "display_name": "Python 3.9.6 64-bit ('virt_amb': venv)"
  },
  "interpreter": {
   "hash": "1688de0ab0dcee74fedf86755ddd1e145e06084d801535e12e77ad530c61b414"
  }
 },
 "nbformat": 4,
 "nbformat_minor": 2
}