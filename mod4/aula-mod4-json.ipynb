{
 "cells": [
  {
   "cell_type": "code",
   "execution_count": 1,
   "source": [
    "from json import dump, dumps, load, loads"
   ],
   "outputs": [],
   "metadata": {}
  },
  {
   "cell_type": "markdown",
   "source": [
    "Criando um arquivo de exemplo"
   ],
   "metadata": {}
  },
  {
   "cell_type": "code",
   "execution_count": 4,
   "source": [
    "json_exemplo = {\r\n",
    "    \"chave1\" : \"valor1\",\r\n",
    "    \"chave2\" : \"valor2\"\r\n",
    "}"
   ],
   "outputs": [],
   "metadata": {}
  },
  {
   "cell_type": "code",
   "execution_count": 5,
   "source": [
    "#convertendo o formato dicionário em uma string\r\n",
    "string_json = dumps(json_exemplo)\r\n",
    "string_json #retorna em forma de dicionário"
   ],
   "outputs": [
    {
     "output_type": "execute_result",
     "data": {
      "text/plain": [
       "'{\"chave1\": \"valor1\", \"chave2\": \"valor2\"}'"
      ]
     },
     "metadata": {},
     "execution_count": 5
    }
   ],
   "metadata": {}
  },
  {
   "cell_type": "code",
   "execution_count": 7,
   "source": [
    "#converter a string para dicionario\r\n",
    "json_str2dict = loads(string_json)\r\n",
    "json_str2dict"
   ],
   "outputs": [
    {
     "output_type": "execute_result",
     "data": {
      "text/plain": [
       "{'chave1': 'valor1', 'chave2': 'valor2'}"
      ]
     },
     "metadata": {},
     "execution_count": 7
    }
   ],
   "metadata": {}
  },
  {
   "cell_type": "code",
   "execution_count": 10,
   "source": [
    "#salvar em um arquivo no formato JSON \r\n",
    "with open(\"json_exemplo.json\", \"w\") as file:\r\n",
    "    dump(json_str2dict, file)"
   ],
   "outputs": [],
   "metadata": {}
  },
  {
   "cell_type": "code",
   "execution_count": 11,
   "source": [
    "#lendo o arquivo JSON \r\n",
    "with open(\"json_exemplo.json\") as file:\r\n",
    "    leitura_do_json = load(file)\r\n",
    "\r\n",
    "leitura_do_json"
   ],
   "outputs": [
    {
     "output_type": "execute_result",
     "data": {
      "text/plain": [
       "{'chave1': 'valor1', 'chave2': 'valor2'}"
      ]
     },
     "metadata": {},
     "execution_count": 11
    }
   ],
   "metadata": {}
  }
 ],
 "metadata": {
  "orig_nbformat": 4,
  "language_info": {
   "name": "python",
   "version": "3.9.6",
   "mimetype": "text/x-python",
   "codemirror_mode": {
    "name": "ipython",
    "version": 3
   },
   "pygments_lexer": "ipython3",
   "nbconvert_exporter": "python",
   "file_extension": ".py"
  },
  "kernelspec": {
   "name": "python3",
   "display_name": "Python 3.9.6 64-bit ('virt_amb': venv)"
  },
  "interpreter": {
   "hash": "ce9ce261044625a176dd27c548d33259190e0d49f23b93fd342eb95406c6d9b4"
  }
 },
 "nbformat": 4,
 "nbformat_minor": 2
}